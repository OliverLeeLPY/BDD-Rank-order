{
 "cells": [
  {
   "cell_type": "code",
   "execution_count": 1,
   "id": "e7b8fa4a-faa2-468b-a211-cc8372446cdf",
   "metadata": {},
   "outputs": [],
   "source": [
    "import numpy as np"
   ]
  },
  {
   "cell_type": "markdown",
   "id": "dce47892-726c-4ee3-9506-f7de36a19a9d",
   "metadata": {},
   "source": [
    "Goal: The goal of the project will be to write a piece of software (possible languages are Python, Julia, and MATLAB), that matches N patients with K doctors. Each patient is allowed to provide a ranked list of their preference for doctors, however doctors are prohibited from displaying preferences for patients. Thus the code should take in the following:\n",
    "\n",
    "A list of ranked preferences, 1 list for each patient\n",
    "A maximum capacity for each doctor (can initially assume the same capacity - note the total capacity should exceed the number of patients\n",
    "And the code should return:\n",
    "\n",
    "A list of assignments indicating which doctors are to take care of which patients\n"
   ]
  },
  {
   "cell_type": "code",
   "execution_count": 28,
   "id": "e99be736-1580-4ee1-bc7b-4ad6a258e16a",
   "metadata": {},
   "outputs": [
    {
     "name": "stdout",
     "output_type": "stream",
     "text": [
      "Patient 0 's preference is A>B>C>D>E\n",
      "Patient 1 's preference is A>D>C>B>E\n",
      "Patient 2 's preference is B>D>C>E>A\n",
      "Patient 3 's preference is C>E>D>B>A\n",
      "Patient 4 's preference is E>D>B>C>A\n",
      "Patient 5 's preference is D>A>E>B>C\n"
     ]
    }
   ],
   "source": [
    "#A list of ranked preferences, 1 list for each patient\n",
    "doc_names={0: \"A\", 1: \"B\", 2: \"C\", 3: \"D\",4:\"E\"}\n",
    "preference=np.array([[0,1,2,3,4],\n",
    "                     [0,3,2,1,4],\n",
    "                     [1,3,2,4,0],\n",
    "                     [2,4,3,1,0],\n",
    "                     [4,3,1,2,0],\n",
    "                     [3,0,4,1,2]])\n",
    "patient_num=preference.shape[0]\n",
    "for i in range(len(preference)):\n",
    "    pref_individual=preference[i]\n",
    "    pref_doc_name=[]\n",
    "    for j in pref_individual:\n",
    "        pref_doc_name.append(doc_names.get(j))\n",
    "    pref_list = '>'.join(pref_doc_name)\n",
    "    print(\"Patient %d 's preference is %s\" % (i, pref_list))"
   ]
  },
  {
   "cell_type": "code",
   "execution_count": 3,
   "id": "a184d496-33d9-4942-9ca0-c28cae560ec4",
   "metadata": {},
   "outputs": [
    {
     "name": "stdout",
     "output_type": "stream",
     "text": [
      "[[0 0 1 1 2 3 3 3 4 4]\n",
      " [0 0 3 3 2 1 1 1 4 4]\n",
      " [1 1 3 3 2 4 4 4 0 0]\n",
      " [2 2 4 4 3 1 1 1 0 0]\n",
      " [4 4 3 3 1 2 2 2 0 0]\n",
      " [3 3 0 0 4 1 1 1 2 2]\n",
      " [4 4 4 4 4 4 4 4 4 4]\n",
      " [4 4 4 4 4 4 4 4 4 4]\n",
      " [4 4 4 4 4 4 4 4 4 4]\n",
      " [4 4 4 4 4 4 4 4 4 4]]\n"
     ]
    }
   ],
   "source": [
    "#A maximum capacity for each doctor (can initially assume the same capacity \n",
    "#- note the total capacity should exceed the number of patients\n",
    "doc_capacity=[2,2,1,3,2]\n",
    "\n",
    "def load_preference(preference_origin, doc_capacity):\n",
    "    \"\"\"The capacity can be considered to be equivalent to \n",
    "the existence of the multiple same doctors. Therefore,\n",
    "the columns in the matrix can be multipled according to \n",
    "doc_capacity. Pad matrix with max value to achive a square matrix.\n",
    "    \"\"\"\n",
    "    preference = preference_origin.copy()\n",
    "    hungarian_matrix = preference[:, 0]\n",
    "\n",
    "    cur_index = 0\n",
    "    for i in range(len(doc_capacity)):\n",
    "        capacity = doc_capacity[i]\n",
    "        preference = np.insert(preference,\n",
    "                               (capacity - 1) * [cur_index],\n",
    "                               preference[:, [cur_index]],\n",
    "                               axis=1)\n",
    "        cur_index += capacity\n",
    "    zero_matrix = np.full((preference.shape[1] - preference.shape[0], preference.shape[1]), preference.max(),\n",
    "                          dtype=int)\n",
    "    preference = np.vstack((preference, zero_matrix))\n",
    "    return preference\n",
    "\n",
    "preference_trans=load_preference(preference, doc_capacity)\n",
    "print(preference_trans)\n"
   ]
  },
  {
   "cell_type": "markdown",
   "id": "4ec0dffb-2d8d-4e0b-b2f0-78d4f4337c8b",
   "metadata": {},
   "source": [
    "Hungarian Algorithm\n",
    "Step 1: Every column and every row subtract its internal minimum\n",
    "Step 2: Find the row with the fewest zero element\n",
    "Step 3: Identify the Result\n",
    "Step 4. Adjust Matrix\n",
    "Step 5. Calculate the Answer"
   ]
  },
  {
   "cell_type": "code",
   "execution_count": 25,
   "id": "c0e21016-166a-49a6-a2e6-bdddad416131",
   "metadata": {},
   "outputs": [
    {
     "data": {
      "text/plain": [
       "[(0, np.int64(0)),\n",
       " (1, np.int64(1)),\n",
       " (2, np.int64(8)),\n",
       " (4, np.int64(4)),\n",
       " (5, np.int64(2)),\n",
       " (3, np.int64(5)),\n",
       " (6, np.int64(3)),\n",
       " (7, np.int64(6)),\n",
       " (8, np.int64(7))]"
      ]
     },
     "execution_count": 25,
     "metadata": {},
     "output_type": "execute_result"
    }
   ],
   "source": [
    "def mark_min_zero_row(zero_mat, mark_zero):\n",
    "    \"\"\"\n",
    "    The function can be split into two steps:\n",
    "    #1 The function is used to find the row which containing the fewest 0.\n",
    "    #2 Select the zero number on the row, and then marked the element corresponding row and column as False\n",
    "    \"\"\"\n",
    "\n",
    "    # find row that has least number of zeros\n",
    "    min_row = [99999, -1]\n",
    "\n",
    "    for i in range(zero_mat.shape[0]):\n",
    "        if np.sum(zero_mat[i] == True) > 0 and min_row[0] > np.sum(zero_mat[i] == True):\n",
    "            min_row = [np.sum(zero_mat[i] == True),i]\n",
    "\n",
    "\n",
    "    # Store the marked coordinates into mark_zero\n",
    "    zero_idxes = np.where(zero_mat[min_row[1],]== True)[0][0]\n",
    "    mark_zero.append((min_row[1], zero_idxes))\n",
    "\n",
    "    # Mark the corresponding row and column as False\n",
    "    zero_mat[min_row[1], :] = False\n",
    "    zero_mat[:, zero_idxes] = False\n",
    "    \n",
    "    return\n",
    "\n",
    "\n",
    "def mark_matrix(matrix):\n",
    "    \"\"\"\n",
    "    Finding the possible solutions for linear assignment problem.\n",
    "    \"\"\"\n",
    "\n",
    "    # Transform the matrix to boolean matrix(0 = True, others = False)\n",
    "    cur_matrix = matrix\n",
    "    zero_bool_matrix = (cur_matrix == 0)\n",
    "    zero_bool_matrix_copy = zero_bool_matrix.copy()\n",
    "\n",
    "    # Store possible answer positions by marked_zero\n",
    "    marked_zero = []  # store [(idxes that marked zero), (row Idx)]\n",
    "    while True in zero_bool_matrix_copy:\n",
    "        mark_min_zero_row(zero_bool_matrix_copy, marked_zero)\n",
    "\n",
    "    # Recording the row and column positions separately.\n",
    "    marked_zero_row = []\n",
    "    marked_zero_column = []\n",
    "    for i in range(len(marked_zero)):\n",
    "        marked_zero_row.append(marked_zero[i][0])\n",
    "        marked_zero_column.append(marked_zero[i][1])\n",
    "\n",
    "    # Store indexes of row that do not contain marked 0 elements\n",
    "    non_marked_row = list(set(range(cur_matrix.shape[0])) - set(marked_zero_row))\n",
    "\n",
    "    marked_cols = []\n",
    "    check_switch = True\n",
    "    while check_switch:\n",
    "        check_switch = False\n",
    "        # Search for any unmarked 0 elements in their column\n",
    "        for i in range(len(non_marked_row)):\n",
    "            row_array = zero_bool_matrix[non_marked_row[i], :]\n",
    "            for j in range(row_array.shape[0]):\n",
    "                if row_array[j] == True and j not in marked_cols:\n",
    "                    # Store them in the marked_cols\n",
    "                    marked_cols.append(j)\n",
    "                    check_switch = True\n",
    "\n",
    "        for row_num, col_num in marked_zero:\n",
    "            # Compare column indexes stored in marked_zero and marked_cols\n",
    "            if row_num not in non_marked_row and col_num in marked_cols:\n",
    "                # Save the correspongding row_index into non_marked_rows if a maching column index exists\n",
    "                non_marked_row.append(row_num)\n",
    "                check_switch = True\n",
    "    # The row indexes that are not in non_marked_row are stored in marked_rows\n",
    "    marked_rows = list(set(range(matrix.shape[0])) - set(non_marked_row))\n",
    "\n",
    "    return marked_zero, marked_rows, marked_cols\n",
    "\n",
    "\n",
    "def adjust_matrix(mat, cover_rows, cover_cols):\n",
    "    \"\"\"\n",
    "    1. Find the minimum value that is not in marked_rows and marked_cols\n",
    "    2. Subtract the elements which are not in marked_rows nor marked_cols form the minimum values\n",
    "    3. Add the element in marked_rows to the min value\n",
    "    \"\"\"\n",
    "\n",
    "    # Find the minimum value that is not in marked_rows and marked_cols\n",
    "    min_val = 10000000\n",
    "    cur_mat = mat\n",
    "    not_cover_rows = set(range(len(cur_mat))) - set(cover_rows)\n",
    "    not_cover_cols = set(range(len(cur_mat[0]))) - set(cover_cols)\n",
    "    for i in not_cover_rows:\n",
    "        for j in not_cover_cols:\n",
    "            if min_val > cur_mat[i][j]:\n",
    "                min_val = cur_mat[i][j]\n",
    "\n",
    "    # Subtract the elements which are not in marked_rows nor marked_cols from the minimum values\n",
    "    for i in not_cover_rows:\n",
    "        for j in not_cover_cols:\n",
    "            cur_mat[i, j] = cur_mat[i, j] - min_val\n",
    "    # Add the element in marked_rows to the min value\n",
    "    for i in range(len(cover_rows)):\n",
    "        for j in range(len(cover_cols)):\n",
    "            cur_mat[cover_rows[i], cover_cols[j]] = cur_mat[cover_rows[i], cover_cols[j]] + min_val\n",
    "    return cur_mat\n",
    "\n",
    "\n",
    "def hungarian_algorithm(matrix):\n",
    "    \"\"\"Return the result of linear assignment from matrix using hungarian algorithm\n",
    "    \"\"\"\n",
    "\n",
    "    cur_matrix = matrix\n",
    "\n",
    "    # Subtract every column and every row with its internal minimum\n",
    "    for row_idx in range(matrix.shape[0]):\n",
    "        min_val = np.min(cur_matrix[row_idx])\n",
    "        cur_matrix[row_idx] = cur_matrix[row_idx] - min_val\n",
    "    for col_idx in range(matrix.shape[1]):\n",
    "        min_val = np.min(cur_matrix[:, col_idx])\n",
    "        cur_matrix[:, col_idx] = cur_matrix[:, col_idx] - min_val\n",
    "\n",
    "    zero_count = 0\n",
    "    # Repeat step 2 and 3 until the zero_count == dimension\n",
    "    result = None\n",
    "    dimension = matrix.shape[0]\n",
    "    while zero_count < dimension:\n",
    "        # 2 Find the row with the fewest zero elements\n",
    "        result, marked_rows, marked_cols = mark_matrix(cur_matrix)\n",
    "        zero_count = len(marked_cols) + len(marked_rows)\n",
    "        # 3 Identify the result by assessing weather the lengths of marked_rows and marked_cols is equal to the length of the cost matrix\n",
    "        if zero_count < dimension:\n",
    "            cur_matrix = adjust_matrix(cur_matrix, marked_rows, marked_cols)\n",
    "\n",
    "    return result\n",
    "\n",
    "result = hungarian_algorithm(preference_trans)\n",
    "result"
   ]
  },
  {
   "cell_type": "code",
   "execution_count": 31,
   "id": "ee281ea0-b32b-415b-ba51-206248b51662",
   "metadata": {},
   "outputs": [
    {
     "data": {
      "text/plain": [
       "{0: 'A', 1: 'A', 2: 'E', 3: 'D', 4: 'C', 5: 'B'}"
      ]
     },
     "execution_count": 31,
     "metadata": {},
     "output_type": "execute_result"
    }
   ],
   "source": [
    "def transform_result1(result, doc_capacity, doc_names, patient_num):\n",
    "    \"\"\"\n",
    "    Transform 'assignments' into a dictionary (patient: doctor) and remove padding values.\n",
    "    \n",
    "    Parameters:\n",
    "        assignments (list): List of (patient, assigned doctor index) pairs.\n",
    "        doctor_capacity (list): List of the capacity of each doctor.\n",
    "        doctor_names (list): List of doctor names corresponding to their indices.\n",
    "        num_patients (int): Total number of patients to process.\n",
    "    \n",
    "    Returns:\n",
    "        dict: A dictionary mapping patient indices to doctor names.\n",
    "    \"\"\"\n",
    "    # Sort assignments by patient indices\n",
    "    assignments_sorted = sorted(result, key=lambda x: x[0])\n",
    "\n",
    "    # Create cumulative capacities for doctor ranges\n",
    "    cumulative_capacity = [sum(doc_capacity[:i]) for i in range(1, len(doc_capacity) + 1)]\n",
    "    \n",
    "    # Create a mapping of patient indices to doctor names\n",
    "    patient_to_doctor = {}\n",
    "    for patient_idx, doctor_idx in assignments_sorted:\n",
    "        # Find the corresponding doctor index using cumulative capacity ranges\n",
    "        for range_idx, capacity_limit in enumerate(cumulative_capacity):\n",
    "            if doctor_idx < capacity_limit:  # Doctor index falls in this range\n",
    "                patient_to_doctor[patient_idx] = doctor_names[range_idx]\n",
    "                break\n",
    "\n",
    "    # Ensure patient output maps properly (e.g., removes padding values)\n",
    "    assignments = {patient_idx: patient_to_doctor[patient_idx] for patient_idx in range(patient_num)}\n",
    "    return assignment\n",
    "\n",
    "assignment = transform_result(result, doc_capacity, doc_names, patient_num)\n",
    "assignment"
   ]
  },
  {
   "cell_type": "code",
   "execution_count": 36,
   "id": "6f2f1379-6798-4830-a2be-421479c8b7ae",
   "metadata": {},
   "outputs": [
    {
     "name": "stdout",
     "output_type": "stream",
     "text": [
      "patient 0 is taken care by doctor A\n",
      "patient 1 is taken care by doctor A\n",
      "patient 2 is taken care by doctor E\n",
      "patient 3 is taken care by doctor D\n",
      "patient 4 is taken care by doctor C\n",
      "patient 5 is taken care by doctor B\n"
     ]
    }
   ],
   "source": [
    "for i in assignment.keys():  \n",
    "    print(\"patient {} is taken care by doctor {}\".format(str(i), assignment[i]))\n",
    "       "
   ]
  }
 ],
 "metadata": {
  "kernelspec": {
   "display_name": "Python 3 (ipykernel)",
   "language": "python",
   "name": "python3"
  },
  "language_info": {
   "codemirror_mode": {
    "name": "ipython",
    "version": 3
   },
   "file_extension": ".py",
   "mimetype": "text/x-python",
   "name": "python",
   "nbconvert_exporter": "python",
   "pygments_lexer": "ipython3",
   "version": "3.13.5"
  }
 },
 "nbformat": 4,
 "nbformat_minor": 5
}
